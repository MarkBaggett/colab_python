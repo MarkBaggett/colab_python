{
  "nbformat": 4,
  "nbformat_minor": 0,
  "metadata": {
    "colab": {
      "provenance": []
    },
    "kernelspec": {
      "name": "python3",
      "display_name": "Python 3"
    },
    "language_info": {
      "name": "python"
    }
  },
  "cells": [
    {
      "cell_type": "markdown",
      "source": [
        "Execute this cell once to download and install the required software in your Colab environment"
      ],
      "metadata": {
        "id": "Y7LbGkJgPwQI"
      }
    },
    {
      "cell_type": "code",
      "execution_count": null,
      "metadata": {
        "id": "WCYPuBQal45D"
      },
      "outputs": [],
      "source": [
        "!git clone --branch version5 https://github.com/markbaggett/pyWars\n",
        "!pip install ./pyWars\n",
        "import pywars"
      ]
    },
    {
      "cell_type": "markdown",
      "source": [
        "This next command must be run once to configure your pyWars server and to login.  Be sure to put your username and password in the .login() function\n"
      ],
      "metadata": {
        "id": "V9zGApf2QOZD"
      }
    },
    {
      "cell_type": "code",
      "source": [
        "d = pywars.Client(\"https://live.sec673.com:10000\")\n",
        "d.login(\"your login here\",\"your password here\")"
      ],
      "metadata": {
        "id": "zeiJWbS0N5Ih"
      },
      "execution_count": null,
      "outputs": []
    },
    {
      "cell_type": "code",
      "source": [
        "d.names"
      ],
      "metadata": {
        "id": "Iea43FE9Q8BN"
      },
      "execution_count": null,
      "outputs": []
    },
    {
      "cell_type": "code",
      "source": [
        "d.question(0)"
      ],
      "metadata": {
        "id": "JlOtXN3LONEy"
      },
      "execution_count": null,
      "outputs": []
    },
    {
      "cell_type": "code",
      "source": [
        "d.data(0)"
      ],
      "metadata": {
        "id": "4qwW4AdCOPoc"
      },
      "execution_count": null,
      "outputs": []
    },
    {
      "cell_type": "code",
      "source": [
        "d.answer(d.data(0))"
      ],
      "metadata": {
        "id": "GdHLu-0ePX5p"
      },
      "execution_count": null,
      "outputs": []
    },
    {
      "cell_type": "code",
      "source": [
        "d.score()"
      ],
      "metadata": {
        "id": "C229dJ3jPaMc"
      },
      "execution_count": null,
      "outputs": []
    }
  ]
}

