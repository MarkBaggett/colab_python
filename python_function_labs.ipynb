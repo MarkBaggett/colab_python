{
  "cells": [
    {
      "cell_type": "markdown",
      "metadata": {
        "id": "Y7LbGkJgPwQI"
      },
      "source": [
        "The content of the following cell install the pywars client into this notebook. It must be executed once during the lifetime of a notebooks execution.  If you save and reopen the notebook you will need to execute again, but otherwise you only need to run it once."
      ]
    },
    {
      "cell_type": "code",
      "execution_count": null,
      "metadata": {
        "id": "WCYPuBQal45D"
      },
      "outputs": [],
      "source": [
        "#Import and/or install the pywars client\n",
        "!git clone --branch version5 https://github.com/markbaggett/pyWars\n",
        "!pip install ./pyWars\n",
        "\n",
        "#Mount the google drive in colab\n",
        "from google.colab import drive\n",
        "drive.mount('/content/drive')\n"
      ]
    },
    {
      "cell_type": "markdown",
      "metadata": {
        "id": "V9zGApf2QOZD"
      },
      "source": [
        "This next command must be run once to configure your pyWars server and to login.  Be sure to put your username and password in the .login() function.  Before running this you must change the contents of the three variables below to reflect the account information provided by SANS.\n"
      ]
    },
    {
      "cell_type": "code",
      "execution_count": null,
      "metadata": {
        "id": "zeiJWbS0N5Ih"
      },
      "outputs": [],
      "source": [
        "#Set the following three variables and execute this cell\n",
        "HOSTNAME = \"Host Name Here\"\n",
        "USERNAME = \"your login here\"\n",
        "PASSWORD = \"your password here\"\n",
        "\n",
        "#This will create your pywars client object and store in the variable d\n",
        "import pywars\n",
        "d = pywars.Client(f\"https://{HOSTNAME}:10000\")\n",
        "d.file_location=\"/content/drive/MyDrive\"\n",
        "d.login(USERNAME,PASSWORD)\n"
      ]
    },
    {
      "cell_type": "markdown",
      "metadata": {},
      "source": [
        "In this lab you will complete all of the labs that have \"function\" in the name.  The next cell uses a for loop to print just those with \"function\" in the name. Run it to see a list of all of the challenge you must complete."
      ]
    },
    {
      "cell_type": "code",
      "execution_count": null,
      "metadata": {
        "id": "Iea43FE9Q8BN"
      },
      "outputs": [],
      "source": [
        "for each_num, each_name in enumerate(d.names):\n",
        "    if each_name.startswith(\"function\"):\n",
        "        print(f\"You must complete #{each_num} {each_name}\")"
      ]
    },
    {
      "cell_type": "markdown",
      "metadata": {},
      "source": [
        "These labs are different than the `string`, `math` and `problem-solving` labs. Each of these questions will drop an incomplete python program in your MyDrive folder."
      ]
    },
    {
      "cell_type": "code",
      "execution_count": null,
      "metadata": {
        "id": "JlOtXN3LONEy"
      },
      "outputs": [],
      "source": [
        "#Ask for the question to get the folder.\n",
        "d.question(\"problem-????\")"
      ]
    },
    {
      "cell_type": "code",
      "execution_count": null,
      "metadata": {},
      "outputs": [],
      "source": [
        "#Ask for the data.  There probably isn't any but it doesn't hurt to ask.\n",
        "#Also asking for the data tells the server which question you are working on.\n",
        "d.data(\"problem-????\")"
      ]
    },
    {
      "cell_type": "markdown",
      "metadata": {},
      "source": [
        "Now you are ready to open the README.md file in the new folder in your Google Drive. Follow the instructions in that file to complete the lab. Use a cell in this notebook to experiment with your function. Create the function here and test it. Once you have it working then place it in the file as outlined in the README.md. For example, here I created and tested a function that subtracts two numbers. "
      ]
    },
    {
      "cell_type": "code",
      "execution_count": null,
      "metadata": {},
      "outputs": [],
      "source": [
        "#define your function \n",
        "def subtract(a,b):\n",
        "    return a-b\n",
        "\n",
        "#Test your function\n",
        "print(subtract(5,2))"
      ]
    },
    {
      "cell_type": "markdown",
      "metadata": {},
      "source": [
        "Once you get your function working copy and paste it into solution.py. Then submit your solution using `d.solution()` like shown below. "
      ]
    },
    {
      "cell_type": "code",
      "execution_count": null,
      "metadata": {},
      "outputs": [],
      "source": [
        "#Submitting a solution looks like this.  Change the path to the file you want to submit.\n",
        "d.solution(\"/content/drive/MyDrive/problem-????/solution.py\")"
      ]
    },
    {
      "cell_type": "code",
      "execution_count": null,
      "metadata": {},
      "outputs": [],
      "source": [
        "#Check your score and be sure you finished all of the function labs. \n",
        "d.score()"
      ]
    }
  ],
  "metadata": {
    "colab": {
      "provenance": []
    },
    "kernelspec": {
      "display_name": "Python 3",
      "name": "python3"
    },
    "language_info": {
      "name": "python"
    }
  },
  "nbformat": 4,
  "nbformat_minor": 0
}
