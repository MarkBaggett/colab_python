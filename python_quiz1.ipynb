{
  "cells": [
    {
      "cell_type": "markdown",
      "metadata": {
        "id": "Y7LbGkJgPwQI"
      },
      "source": [
        "The content of the following cell install the pywars client into this notebook. It must be executed once during the lifetime of a notebooks execution.  If you save and reopen the notebook you will need to execute again, but otherwise you only need to run it once."
      ]
    },
    {
      "cell_type": "code",
      "execution_count": null,
      "metadata": {
        "id": "WCYPuBQal45D"
      },
      "outputs": [],
      "source": [
        "#Import and/or install the pywars client\n",
        "!git clone --branch version5 https://github.com/markbaggett/pyWars\n",
        "!pip install ./pyWars\n",
        "\n",
        "#Mount the google drive in colab\n",
        "from google.colab import drive\n",
        "drive.mount('/content/drive')\n"
      ]
    },
    {
      "cell_type": "markdown",
      "metadata": {
        "id": "V9zGApf2QOZD"
      },
      "source": [
        "This next command must be run once to configure your pyWars server and to login.  Be sure to put your username and password in the .login() function.  Before running this you must change the contents of the three variables below to reflect the account information provided by SANS.\n"
      ]
    },
    {
      "cell_type": "code",
      "execution_count": null,
      "metadata": {
        "id": "zeiJWbS0N5Ih"
      },
      "outputs": [],
      "source": [
        "#Set the following three variables and execute this cell\n",
        "HOSTNAME = \"Host Name Here\"\n",
        "USERNAME = \"your login here\"\n",
        "PASSWORD = \"your password here\"\n",
        "\n",
        "#This will create your pywars client object and store in the variable d\n",
        "import pywars\n",
        "d = pywars.Client(f\"https://{HOSTNAME}:10000\")\n",
        "d.file_location=\"/content/drive/MyDrive\"\n",
        "d.login(USERNAME,PASSWORD)\n"
      ]
    },
    {
      "cell_type": "markdown",
      "metadata": {},
      "source": [
        "In this lab you will complete all of the labs that have \"Quiz1\" in the name.  The next cell uses a for loop to print just those with \"Quiz1\" in the name. Run it to see a list of all of the challenge you must complete."
      ]
    },
    {
      "cell_type": "code",
      "execution_count": null,
      "metadata": {
        "id": "Iea43FE9Q8BN"
      },
      "outputs": [],
      "source": [
        "for each_name in d.names:\n",
        "    if each_name.startswith(\"Quiz1\"):\n",
        "        print(f\"You must complete {each_name}\")"
      ]
    },
    {
      "cell_type": "markdown",
      "metadata": {},
      "source": [
        "# **WARNING**\n",
        "## These are quiz questions. You can only submit `.answer()` once per question. Read the question carefully. Your ability to follow instructions and use Python to submit answers is part of the grade. If you accidentally submit an incorrect answer it is wrong."
      ]
    },
    {
      "cell_type": "code",
      "execution_count": null,
      "metadata": {
        "id": "JlOtXN3LONEy"
      },
      "outputs": [],
      "source": [
        "#Ask for the question to get the folder.\n",
        "d.question(\"quiz?\")"
      ]
    },
    {
      "cell_type": "code",
      "execution_count": null,
      "metadata": {},
      "outputs": [],
      "source": [
        "#Be sure to print your data.\n",
        "\n",
        "print(d.data(\"quiz?\"))"
      ]
    },
    {
      "cell_type": "markdown",
      "metadata": {},
      "source": [
        "Carefully consider your answer. Remember, you get one attempt per question. When you are ready submit your answer. \n",
        "\n",
        "Note: the next cell is commented out so that you do not accidentally run it.  "
      ]
    },
    {
      "cell_type": "code",
      "execution_count": null,
      "metadata": {},
      "outputs": [],
      "source": [
        "#d.answer( your answer here )"
      ]
    }
  ],
  "metadata": {
    "colab": {
      "provenance": []
    },
    "kernelspec": {
      "display_name": "Python 3",
      "name": "python3"
    },
    "language_info": {
      "name": "python"
    }
  },
  "nbformat": 4,
  "nbformat_minor": 0
}
