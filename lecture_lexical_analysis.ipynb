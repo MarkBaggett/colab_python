{
  "cells": [
    {
      "cell_type": "markdown",
      "metadata": {
        "id": "Y7LbGkJgPwQI"
      },
      "source": [
        "# Python Lexical Analysis\n",
        "\n",
        "Lexical Analysis is the process that a programming language uses to understand a line of Python code. A single line of python can be made up of several components.\n",
        "\n",
        "https://docs.python.org/3/reference/lexical_analysis.html\n",
        "\n",
        "\n",
        "Everything I will teach you here is true wether the proposed line of code is in a Cell in Colab, in a python program or typed into a Python interpreter."
      ]
    },
    {
      "cell_type": "code",
      "execution_count": null,
      "metadata": {
        "id": "WCYPuBQal45D"
      },
      "outputs": [],
      "source": [
        "x = \"thonis\" in (\"python\" + \"isfun\")   #Example line of code"
      ]
    },
    {
      "cell_type": "markdown",
      "metadata": {},
      "source": [
        "A line of python code can appear on more than one line.  If it ends in a \"\\\" then it is explicitly line wrapped.  If it wraps in the middle of an expression or inside a data structure Python also allows implicit line wrapping."
      ]
    },
    {
      "cell_type": "code",
      "execution_count": null,
      "metadata": {},
      "outputs": [],
      "source": []
    },
    {
      "cell_type": "markdown",
      "metadata": {
        "id": "V9zGApf2QOZD"
      },
      "source": [
        "## Different parts of a line of code\n",
        "\n",
        " - variables - Labels for a location in memory that stores a literal value\n",
        " - literal - A fixed value in code (\"thonis\", \"python\", \"isfun\" above)\n",
        " - Keywords - commands that python understands (\"in\" above)\n",
        " - operators - Used for calculations such as math, comparision, assignment (\"=\", \"+\" above)\n",
        " - delimiters - Used to group together parts of code ( \"(\" and \")\" above\n",
        " - comments - Any text after a # (octothorp) is ignored by the interpeter and used to document your code.\n"
      ]
    },
    {
      "cell_type": "markdown",
      "metadata": {},
      "source": [
        "## Variables\n",
        "\n",
        " - Variables are labels for locations in memory that store objects.\n",
        " - All variable names are case sensitive\n",
        " - All variable names must start with _ or A-Z or a-z\n",
        " - A variable on the right side of the = is an assignment (Write to the variable)\n",
        " - A variable on the left side of an equal sign is reading the variable\n",
        " - We also assign variables values when we call function, but we will save that discussion for later"
      ]
    },
    {
      "cell_type": "code",
      "execution_count": null,
      "metadata": {
        "id": "zeiJWbS0N5Ih"
      },
      "outputs": [],
      "source": [
        "a = 5\n",
        "_123 = 10\n",
        "x = _123 + a\n",
        "a = print\n",
        "a(\"hello\")"
      ]
    },
    {
      "cell_type": "markdown",
      "metadata": {},
      "source": [
        "Python preassigns about 150 variables with values when the system loads."
      ]
    },
    {
      "cell_type": "code",
      "execution_count": null,
      "metadata": {
        "id": "Iea43FE9Q8BN"
      },
      "outputs": [],
      "source": [
        "dir(__builtins__)"
      ]
    },
    {
      "cell_type": "markdown",
      "metadata": {},
      "source": [
        "Variables point to a location in memory.  Those are often literal values.\n",
        "\n",
        "https://pythontutor.com/visualize.html#code=a%20%3D%2010%20%0Ab%20%3D%205%0Ac%20%3D%20900%0A%0Aa%20%3D%20b%20%2B%20c%20&cumulative=False&curInstr=0&heapPrimitives=True&mode=display&origin=opt-frontend.js&py=3&rawInputLstJSON=%5B%5D&textReferences=False\n"
      ]
    },
    {
      "cell_type": "markdown",
      "metadata": {},
      "source": [
        "## Literals\n",
        "\n",
        "Literals are values that are placed in your program. There are many different types of literal values for example:\n",
        "\n",
        " - Integers :  9999, -1, 0\n",
        " - Floats:   3.14, 9.99, -0.01\n",
        " - Strings:  'Hello', \"Bye\\n\", f\"5 times 2 is {5*2}\"\n",
        " - Booleans:   True, False\n",
        " - Bytes:  b\"\\x41\\x42\\x43', b\"ABC\"\n",
        " - Lists:  [1,2,3]\n",
        " - Dictionaries: {\"record1\":\"value1\", \"record2\":\"value2\"}"
      ]
    },
    {
      "cell_type": "code",
      "execution_count": null,
      "metadata": {
        "id": "JlOtXN3LONEy"
      },
      "outputs": [],
      "source": [
        "x = 9999"
      ]
    },
    {
      "cell_type": "markdown",
      "metadata": {},
      "source": [
        "## Keywords \n",
        "\n",
        "Keywords are the commands that Python understands.  There are only about 35 of them although the number varies from version to version. \n",
        "\n",
        "Don't confuse \"keywords\" with executing the code stored in varaibles such as print() or len().  Those have a parenthesis after them.\n",
        "\n",
        "ALL KEYWORDS have spaces after them if they accept arguments.  Examples:\n",
        "\n",
        "```\n",
        "\"import module\"\n",
        "\"from os import object\"\n",
        "\"del variable\"\n",
        "\"5 is 10\"\n",
        "\"'i' in 'team'\"\n",
        "```"
      ]
    },
    {
      "cell_type": "code",
      "execution_count": null,
      "metadata": {},
      "outputs": [],
      "source": [
        "import keyword\n",
        "dir(keyword.kwlist)"
      ]
    },
    {
      "cell_type": "markdown",
      "metadata": {},
      "source": [
        "## Operators\n",
        "Operators perform operations on operands.  \n",
        "\n",
        "### Mathematical operators  +, -, /, //, *, **, and %"
      ]
    },
    {
      "cell_type": "code",
      "execution_count": null,
      "metadata": {},
      "outputs": [],
      "source": [
        "10 + 5\n",
        "100 + 9"
      ]
    },
    {
      "cell_type": "markdown",
      "metadata": {},
      "source": [
        "### Assignment operators =, +=, -=, *=, /=, //=, **=, %=\n",
        "```\n",
        "x = 10\n",
        "x += 5\n",
        "x -= 100\n",
        "x *= 60\n",
        "```"
      ]
    },
    {
      "cell_type": "code",
      "execution_count": null,
      "metadata": {},
      "outputs": [],
      "source": []
    },
    {
      "cell_type": "markdown",
      "metadata": {},
      "source": [
        "### Comparison operators \n",
        "\n",
        "Compare to objects and convert them into a Boolean Value of either True or False.\n",
        "\n",
        "```\n",
        "10 < 5\n",
        "10 > 6\n",
        "10 >= 9\n",
        "10 <= 9\n",
        "10 == 9\n",
        "10 != 9\n",
        "```"
      ]
    },
    {
      "cell_type": "code",
      "execution_count": null,
      "metadata": {},
      "outputs": [],
      "source": []
    },
    {
      "cell_type": "markdown",
      "metadata": {},
      "source": [
        "#### Logical Tests\n",
        "\n",
        "Logic Tests combine boolean values using \"and\",\"or\",\"not\" \"^\"\n",
        "\n",
        "The AND table\n",
        "\n",
        "| X     | Y     | X AND Y |\n",
        "|-------|-------|---------|\n",
        "| True  | True  | True    |\n",
        "| True  | False | False   |\n",
        "| False | True  | False   |\n",
        "| False | False | False   |"
      ]
    },
    {
      "cell_type": "code",
      "execution_count": null,
      "metadata": {},
      "outputs": [],
      "source": []
    },
    {
      "cell_type": "markdown",
      "metadata": {},
      "source": [
        "#### The OR table\n",
        "\n",
        "| X     | Y     | X OR Y |\n",
        "|-------|-------|--------|\n",
        "| True  | True  | True   |\n",
        "| True  | False | True   |\n",
        "| False | True  | True   |\n",
        "| False | False | False  |"
      ]
    },
    {
      "cell_type": "code",
      "execution_count": null,
      "metadata": {},
      "outputs": [],
      "source": []
    },
    {
      "cell_type": "markdown",
      "metadata": {},
      "source": [
        "\n",
        "#### The XOR table\n",
        "\n",
        "| X     | Y     | X XOR Y |\n",
        "|-------|-------|---------|\n",
        "| True  | True  | False   |\n",
        "| True  | False | True    |\n",
        "| False | True  | True    |\n",
        "| False | False | False   |"
      ]
    },
    {
      "cell_type": "code",
      "execution_count": null,
      "metadata": {},
      "outputs": [],
      "source": []
    },
    {
      "cell_type": "markdown",
      "metadata": {},
      "source": [
        "#### The NOT table\n",
        "\n",
        "| X     | NOT X |\n",
        "|-------|-------|\n",
        "| True  | False |\n",
        "| False | True  |"
      ]
    },
    {
      "cell_type": "code",
      "execution_count": null,
      "metadata": {},
      "outputs": [],
      "source": []
    },
    {
      "cell_type": "markdown",
      "metadata": {},
      "source": [
        "### Bitwise Operators   &,|,~. >>, <<\n",
        "\n",
        "```\n",
        "10 >> 6\n",
        "10 & 6\n",
        "10 | 6\n",
        "```"
      ]
    },
    {
      "cell_type": "code",
      "execution_count": null,
      "metadata": {},
      "outputs": [],
      "source": []
    },
    {
      "cell_type": "markdown",
      "metadata": {},
      "source": [
        "### Object instance operators\n",
        "```\n",
        "is\n",
        "is not\n",
        "```"
      ]
    },
    {
      "cell_type": "code",
      "execution_count": null,
      "metadata": {},
      "outputs": [],
      "source": []
    },
    {
      "cell_type": "markdown",
      "metadata": {},
      "source": [
        "### Object Membership\n",
        "```\n",
        "in\n",
        "not in\n",
        "```"
      ]
    },
    {
      "cell_type": "code",
      "execution_count": null,
      "metadata": {},
      "outputs": [],
      "source": []
    },
    {
      "cell_type": "markdown",
      "metadata": {},
      "source": [
        "The order in which operators are processed is called the \"Operator Precedence\"\n",
        "\n",
        "https://docs.python.org/3/reference/expressions.html#operator-precedence\n",
        "\n",
        "You will see at the top of the order parenthesis, square brackets and other values.  These group together parts of the expression and are called \"Delimiters\""
      ]
    },
    {
      "cell_type": "code",
      "execution_count": null,
      "metadata": {},
      "outputs": [],
      "source": []
    },
    {
      "cell_type": "markdown",
      "metadata": {},
      "source": [
        "## Delimiters\n",
        "\n",
        "Used to group together or extract parts of python code or expressions.  This includes []{}(),:'\";\\\\.\n"
      ]
    },
    {
      "cell_type": "markdown",
      "metadata": {},
      "source": [
        "Parenthesis can be used to enforce order of operations\n",
        "```\n",
        "x = (100 + 10)\n",
        "x = ( 1 + (100 + 20))\n",
        "```  \n",
        "consider `3 * 3 + 2`     vs     `3 * (3 + 2)` "
      ]
    },
    {
      "cell_type": "markdown",
      "metadata": {},
      "source": [
        "Parenthesis can be used to execute code that is stored in a variable\n",
        "```\n",
        "print()\n",
        "```\n",
        "\n",
        "Parenthesis with comma can be used to pass arguments to code stored in a variable\n",
        "```\n",
        "print(\"hello\", \"world\")\n",
        "```"
      ]
    },
    {
      "cell_type": "markdown",
      "metadata": {},
      "source": [
        "semicolons can separate multiple commands on a line\n",
        "\n",
        "`x = 5; x = x + 100; print(x)`"
      ]
    },
    {
      "cell_type": "markdown",
      "metadata": {},
      "source": [
        "Period can be used to access attributes on objects.\n",
        "\n",
        "```\n",
        "import sys\n",
        "sys.version\n",
        "sys.flags\n",
        "sys.getsizeof(x)\n",
        "\"test\".upper()\n",
        "```"
      ]
    },
    {
      "cell_type": "markdown",
      "metadata": {},
      "source": [
        "Colon is used to create a block of code and group code together:\n",
        "\n",
        "```\n",
        "def print_banner():\n",
        "    print(\"WARNING:\")\n",
        "    print(\"You have connected to my system. If you are not authorized I will prosecute.\")\n",
        "    print(\"Go away now before it is too late.\")\n",
        "```"
      ]
    },
    {
      "cell_type": "markdown",
      "metadata": {},
      "source": [
        "Can be used to separate and group together literals to form new data \n",
        "\n",
        "```\n",
        "x = [1,2,3,4,5]\n",
        "``` "
      ]
    }
  ],
  "metadata": {
    "colab": {
      "provenance": []
    },
    "kernelspec": {
      "display_name": "Python 3",
      "name": "python3"
    },
    "language_info": {
      "name": "python"
    }
  },
  "nbformat": 4,
  "nbformat_minor": 0
}
